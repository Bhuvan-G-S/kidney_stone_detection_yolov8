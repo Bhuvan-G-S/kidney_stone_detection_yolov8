{
  "nbformat": 4,
  "nbformat_minor": 0,
  "metadata": {
    "colab": {
      "provenance": []
    },
    "kernelspec": {
      "name": "python3",
      "display_name": "Python 3"
    },
    "language_info": {
      "name": "python"
    },
    "widgets": {
      "application/vnd.jupyter.widget-state+json": {
        "845c523e96a248bdaec63eddcd7dbd01": {
          "model_module": "@jupyter-widgets/controls",
          "model_name": "VBoxModel",
          "model_module_version": "1.5.0",
          "state": {
            "_dom_classes": [],
            "_model_module": "@jupyter-widgets/controls",
            "_model_module_version": "1.5.0",
            "_model_name": "VBoxModel",
            "_view_count": null,
            "_view_module": "@jupyter-widgets/controls",
            "_view_module_version": "1.5.0",
            "_view_name": "VBoxView",
            "box_style": "",
            "children": [
              "IPY_MODEL_4b0ccb53eb904e3f9a2fdc6a2145979a",
              "IPY_MODEL_d4a0b1886f534ca6abb961735c5bf8e5",
              "IPY_MODEL_c07d016fa12d4f948f4c42218c9df62e"
            ],
            "layout": "IPY_MODEL_1ccbff37dd704b288ce3a59481523d70"
          }
        },
        "4b0ccb53eb904e3f9a2fdc6a2145979a": {
          "model_module": "@jupyter-widgets/controls",
          "model_name": "FileUploadModel",
          "model_module_version": "1.5.0",
          "state": {
            "_counter": 1,
            "_dom_classes": [],
            "_model_module": "@jupyter-widgets/controls",
            "_model_module_version": "1.5.0",
            "_model_name": "FileUploadModel",
            "_view_count": null,
            "_view_module": "@jupyter-widgets/controls",
            "_view_module_version": "1.5.0",
            "_view_name": "FileUploadView",
            "accept": ".jpg, .jpeg, .png",
            "button_style": "",
            "data": [
              null
            ],
            "description": "Upload",
            "description_tooltip": null,
            "disabled": false,
            "error": "",
            "icon": "upload",
            "layout": "IPY_MODEL_af699fe733e74507b9e3c7e3d0a967dd",
            "metadata": [
              {
                "name": "1-3-46-670589-33-1-63703718086101119100001-4867318355234768205_png.rf.bf4280355f677054f60e00c888ea1861.jpg",
                "type": "image/jpeg",
                "size": 35870,
                "lastModified": 1720760625272
              }
            ],
            "multiple": true,
            "style": "IPY_MODEL_1e3dae75e3c049658e847a3d9a2905e2"
          }
        },
        "d4a0b1886f534ca6abb961735c5bf8e5": {
          "model_module": "@jupyter-widgets/controls",
          "model_name": "ButtonModel",
          "model_module_version": "1.5.0",
          "state": {
            "_dom_classes": [],
            "_model_module": "@jupyter-widgets/controls",
            "_model_module_version": "1.5.0",
            "_model_name": "ButtonModel",
            "_view_count": null,
            "_view_module": "@jupyter-widgets/controls",
            "_view_module_version": "1.5.0",
            "_view_name": "ButtonView",
            "button_style": "",
            "description": "Display Results",
            "disabled": false,
            "icon": "",
            "layout": "IPY_MODEL_e0814e3fadab4ca6ad18af92307a8e4a",
            "style": "IPY_MODEL_488fb91a8f7f47d0a5ab514d8cb8b7e3",
            "tooltip": ""
          }
        },
        "c07d016fa12d4f948f4c42218c9df62e": {
          "model_module": "@jupyter-widgets/output",
          "model_name": "OutputModel",
          "model_module_version": "1.0.0",
          "state": {
            "_dom_classes": [],
            "_model_module": "@jupyter-widgets/output",
            "_model_module_version": "1.0.0",
            "_model_name": "OutputModel",
            "_view_count": null,
            "_view_module": "@jupyter-widgets/output",
            "_view_module_version": "1.0.0",
            "_view_name": "OutputView",
            "layout": "IPY_MODEL_1cfea465af394588a5a2788b94cad26d",
            "msg_id": "",
            "outputs": []
          }
        },
        "1ccbff37dd704b288ce3a59481523d70": {
          "model_module": "@jupyter-widgets/base",
          "model_name": "LayoutModel",
          "model_module_version": "1.2.0",
          "state": {
            "_model_module": "@jupyter-widgets/base",
            "_model_module_version": "1.2.0",
            "_model_name": "LayoutModel",
            "_view_count": null,
            "_view_module": "@jupyter-widgets/base",
            "_view_module_version": "1.2.0",
            "_view_name": "LayoutView",
            "align_content": null,
            "align_items": null,
            "align_self": null,
            "border": null,
            "bottom": null,
            "display": null,
            "flex": null,
            "flex_flow": null,
            "grid_area": null,
            "grid_auto_columns": null,
            "grid_auto_flow": null,
            "grid_auto_rows": null,
            "grid_column": null,
            "grid_gap": null,
            "grid_row": null,
            "grid_template_areas": null,
            "grid_template_columns": null,
            "grid_template_rows": null,
            "height": null,
            "justify_content": null,
            "justify_items": null,
            "left": null,
            "margin": null,
            "max_height": null,
            "max_width": null,
            "min_height": null,
            "min_width": null,
            "object_fit": null,
            "object_position": null,
            "order": null,
            "overflow": null,
            "overflow_x": null,
            "overflow_y": null,
            "padding": null,
            "right": null,
            "top": null,
            "visibility": null,
            "width": null
          }
        },
        "af699fe733e74507b9e3c7e3d0a967dd": {
          "model_module": "@jupyter-widgets/base",
          "model_name": "LayoutModel",
          "model_module_version": "1.2.0",
          "state": {
            "_model_module": "@jupyter-widgets/base",
            "_model_module_version": "1.2.0",
            "_model_name": "LayoutModel",
            "_view_count": null,
            "_view_module": "@jupyter-widgets/base",
            "_view_module_version": "1.2.0",
            "_view_name": "LayoutView",
            "align_content": null,
            "align_items": null,
            "align_self": null,
            "border": null,
            "bottom": null,
            "display": null,
            "flex": null,
            "flex_flow": null,
            "grid_area": null,
            "grid_auto_columns": null,
            "grid_auto_flow": null,
            "grid_auto_rows": null,
            "grid_column": null,
            "grid_gap": null,
            "grid_row": null,
            "grid_template_areas": null,
            "grid_template_columns": null,
            "grid_template_rows": null,
            "height": null,
            "justify_content": null,
            "justify_items": null,
            "left": null,
            "margin": null,
            "max_height": null,
            "max_width": null,
            "min_height": null,
            "min_width": null,
            "object_fit": null,
            "object_position": null,
            "order": null,
            "overflow": null,
            "overflow_x": null,
            "overflow_y": null,
            "padding": null,
            "right": null,
            "top": null,
            "visibility": null,
            "width": null
          }
        },
        "1e3dae75e3c049658e847a3d9a2905e2": {
          "model_module": "@jupyter-widgets/controls",
          "model_name": "ButtonStyleModel",
          "model_module_version": "1.5.0",
          "state": {
            "_model_module": "@jupyter-widgets/controls",
            "_model_module_version": "1.5.0",
            "_model_name": "ButtonStyleModel",
            "_view_count": null,
            "_view_module": "@jupyter-widgets/base",
            "_view_module_version": "1.2.0",
            "_view_name": "StyleView",
            "button_color": null,
            "font_weight": ""
          }
        },
        "e0814e3fadab4ca6ad18af92307a8e4a": {
          "model_module": "@jupyter-widgets/base",
          "model_name": "LayoutModel",
          "model_module_version": "1.2.0",
          "state": {
            "_model_module": "@jupyter-widgets/base",
            "_model_module_version": "1.2.0",
            "_model_name": "LayoutModel",
            "_view_count": null,
            "_view_module": "@jupyter-widgets/base",
            "_view_module_version": "1.2.0",
            "_view_name": "LayoutView",
            "align_content": null,
            "align_items": null,
            "align_self": null,
            "border": null,
            "bottom": null,
            "display": null,
            "flex": null,
            "flex_flow": null,
            "grid_area": null,
            "grid_auto_columns": null,
            "grid_auto_flow": null,
            "grid_auto_rows": null,
            "grid_column": null,
            "grid_gap": null,
            "grid_row": null,
            "grid_template_areas": null,
            "grid_template_columns": null,
            "grid_template_rows": null,
            "height": null,
            "justify_content": null,
            "justify_items": null,
            "left": null,
            "margin": null,
            "max_height": null,
            "max_width": null,
            "min_height": null,
            "min_width": null,
            "object_fit": null,
            "object_position": null,
            "order": null,
            "overflow": null,
            "overflow_x": null,
            "overflow_y": null,
            "padding": null,
            "right": null,
            "top": null,
            "visibility": null,
            "width": null
          }
        },
        "488fb91a8f7f47d0a5ab514d8cb8b7e3": {
          "model_module": "@jupyter-widgets/controls",
          "model_name": "ButtonStyleModel",
          "model_module_version": "1.5.0",
          "state": {
            "_model_module": "@jupyter-widgets/controls",
            "_model_module_version": "1.5.0",
            "_model_name": "ButtonStyleModel",
            "_view_count": null,
            "_view_module": "@jupyter-widgets/base",
            "_view_module_version": "1.2.0",
            "_view_name": "StyleView",
            "button_color": null,
            "font_weight": ""
          }
        },
        "1cfea465af394588a5a2788b94cad26d": {
          "model_module": "@jupyter-widgets/base",
          "model_name": "LayoutModel",
          "model_module_version": "1.2.0",
          "state": {
            "_model_module": "@jupyter-widgets/base",
            "_model_module_version": "1.2.0",
            "_model_name": "LayoutModel",
            "_view_count": null,
            "_view_module": "@jupyter-widgets/base",
            "_view_module_version": "1.2.0",
            "_view_name": "LayoutView",
            "align_content": null,
            "align_items": null,
            "align_self": null,
            "border": null,
            "bottom": null,
            "display": null,
            "flex": null,
            "flex_flow": null,
            "grid_area": null,
            "grid_auto_columns": null,
            "grid_auto_flow": null,
            "grid_auto_rows": null,
            "grid_column": null,
            "grid_gap": null,
            "grid_row": null,
            "grid_template_areas": null,
            "grid_template_columns": null,
            "grid_template_rows": null,
            "height": null,
            "justify_content": null,
            "justify_items": null,
            "left": null,
            "margin": null,
            "max_height": null,
            "max_width": null,
            "min_height": null,
            "min_width": null,
            "object_fit": null,
            "object_position": null,
            "order": null,
            "overflow": null,
            "overflow_x": null,
            "overflow_y": null,
            "padding": null,
            "right": null,
            "top": null,
            "visibility": null,
            "width": null
          }
        }
      }
    }
  },
  "cells": [
    {
      "cell_type": "code",
      "execution_count": null,
      "metadata": {
        "id": "oWCvDejRFy2J"
      },
      "outputs": [],
      "source": [
        "!pip install ipywidgets\n",
        "!pip install ultralytics==8.0.196\n"
      ]
    },
    {
      "cell_type": "code",
      "source": [
        "from ipywidgets import widgets, FileUpload, VBox, Button, Output\n",
        "from IPython.display import display, Image\n",
        "import os\n",
        "from ultralytics import YOLO\n",
        "import matplotlib.pyplot as plt\n"
      ],
      "metadata": {
        "id": "xln3mCtNF0H6"
      },
      "execution_count": 18,
      "outputs": []
    },
    {
      "cell_type": "code",
      "source": [
        "# Define functions\n",
        "def on_file_upload(change):\n",
        "    os.makedirs('/content/runs/segment/upload_output', exist_ok=True)\n",
        "    custom_model = YOLO('/content/best(2).pt')  # Load your custom-trained model\n",
        "    for name, file_info in uploader.value.items():\n",
        "        with open(name, 'wb') as f:\n",
        "            f.write(file_info['content'])\n",
        "        img_path = os.path.join('/content/', name)\n",
        "        results = custom_model(img_path)\n",
        "        for result in results:\n",
        "            plt.figure(figsize=(10, 10))\n",
        "            plt.imshow(result.plot())\n",
        "            plt.axis('off')\n",
        "            output_img_path = os.path.join('/content/runs/segment/upload_output/', name)\n",
        "            plt.savefig(output_img_path)\n",
        "            plt.close()\n",
        "\n",
        "        # Display the output image\n",
        "        output_img_path = os.path.join('/content/runs/segment/upload_output/', name)\n",
        "        display(Image(filename=output_img_path, width=600))\n",
        "\n",
        "def on_display_results(b):\n",
        "    results_dir = '/content/runs/segment/upload_output'\n",
        "    with output_detect:\n",
        "        output_detect.clear_output()\n",
        "        for image_file in os.listdir(results_dir):\n",
        "            if image_file.endswith(('.jpg', '.jpeg', '.png')):  # Check if it's an image file\n",
        "                image_path = os.path.join(results_dir, image_file)\n",
        "                display(Image(filename=image_path, width=600))\n"
      ],
      "metadata": {
        "id": "4KT9KcyoF0LR"
      },
      "execution_count": 23,
      "outputs": []
    },
    {
      "cell_type": "code",
      "source": [
        "# Create GUI elements for uploading, detecting, and displaying results\n",
        "uploader = FileUpload(accept='.jpg, .jpeg, .png', multiple=True)\n",
        "uploader.observe(on_file_upload, names='value')\n",
        "\n",
        "display_button = Button(description='Display Results')\n",
        "display_button.on_click(on_display_results)\n",
        "output_detect = Output()\n",
        "\n",
        "detect_section = VBox([uploader, display_button, output_detect])\n",
        "display(detect_section)"
      ],
      "metadata": {
        "colab": {
          "base_uri": "https://localhost:8080/",
          "height": 754,
          "referenced_widgets": [
            "845c523e96a248bdaec63eddcd7dbd01",
            "4b0ccb53eb904e3f9a2fdc6a2145979a",
            "d4a0b1886f534ca6abb961735c5bf8e5",
            "c07d016fa12d4f948f4c42218c9df62e",
            "1ccbff37dd704b288ce3a59481523d70",
            "af699fe733e74507b9e3c7e3d0a967dd",
            "1e3dae75e3c049658e847a3d9a2905e2",
            "e0814e3fadab4ca6ad18af92307a8e4a",
            "488fb91a8f7f47d0a5ab514d8cb8b7e3",
            "1cfea465af394588a5a2788b94cad26d"
          ]
        },
        "id": "vg2PrglEF0N_",
        "outputId": "130bb9fb-4be9-4503-b943-eec6dc00ee2f"
      },
      "execution_count": 32,
      "outputs": [
        {
          "output_type": "display_data",
          "data": {
            "text/plain": [
              "VBox(children=(FileUpload(value={}, accept='.jpg, .jpeg, .png', description='Upload', multiple=True), Button(d…"
            ],
            "application/vnd.jupyter.widget-view+json": {
              "version_major": 2,
              "version_minor": 0,
              "model_id": "845c523e96a248bdaec63eddcd7dbd01"
            }
          },
          "metadata": {}
        },
        {
          "output_type": "stream",
          "name": "stderr",
          "text": [
            "\n",
            "image 1/1 /content/1-3-46-670589-33-1-63703718086101119100001-4867318355234768205_png.rf.bf4280355f677054f60e00c888ea1861.jpg: 800x800 3 kidneystones, 1296.4ms\n",
            "Speed: 7.5ms preprocess, 1296.4ms inference, 29.4ms postprocess per image at shape (1, 3, 800, 800)\n"
          ]
        },
        {
          "output_type": "display_data",
          "data": {
            "image/jpeg": "[encoded data removed]",
            "text/plain": [
              "<IPython.core.display.Image object>"
            ]
          },
          "metadata": {
            "image/jpeg": {
              "width": 600
            }
          }
        }
      ]
    },
    {
      "cell_type": "code",
      "source": [],
      "metadata": {
        "id": "OV77VaMNYt7t"
      },
      "execution_count": null,
      "outputs": []
    },
    {
      "cell_type": "code",
      "source": [],
      "metadata": {
        "id": "EiAoTwx4Yt_C"
      },
      "execution_count": null,
      "outputs": []
    }
  ]
}