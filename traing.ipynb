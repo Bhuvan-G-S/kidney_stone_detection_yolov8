{
  "nbformat": 4,
  "nbformat_minor": 0,
  "metadata": {
    "colab": {
      "provenance": [],
      "gpuType": "T4"
    },
    "kernelspec": {
      "name": "python3",
      "display_name": "Python 3"
    },
    "language_info": {
      "name": "python"
    },
    "accelerator": "GPU",
    "widgets": {
      "application/vnd.jupyter.widget-state+json": {
        "1b64d0e11858464f862380d5a983a183": {
          "model_module": "@jupyter-widgets/controls",
          "model_name": "VBoxModel",
          "model_module_version": "1.5.0",
          "state": {
            "_dom_classes": [],
            "_model_module": "@jupyter-widgets/controls",
            "_model_module_version": "1.5.0",
            "_model_name": "VBoxModel",
            "_view_count": null,
            "_view_module": "@jupyter-widgets/controls",
            "_view_module_version": "1.5.0",
            "_view_name": "VBoxView",
            "box_style": "",
            "children": [
              "IPY_MODEL_8b386de6b6f14b539396adcd930c5df4",
              "IPY_MODEL_ee0fe5ab0e584cba999c8690fb40b2a2",
              "IPY_MODEL_89c44793523a45e7973ce346969691c3",
              "IPY_MODEL_0802c9e121a84874a5c054bc859066c9"
            ],
            "layout": "IPY_MODEL_3e50f40d5eb54edda26fabe460d97340"
          }
        },
        "8b386de6b6f14b539396adcd930c5df4": {
          "model_module": "@jupyter-widgets/controls",
          "model_name": "IntTextModel",
          "model_module_version": "1.5.0",
          "state": {
            "_dom_classes": [],
            "_model_module": "@jupyter-widgets/controls",
            "_model_module_version": "1.5.0",
            "_model_name": "IntTextModel",
            "_view_count": null,
            "_view_module": "@jupyter-widgets/controls",
            "_view_module_version": "1.5.0",
            "_view_name": "IntTextView",
            "continuous_update": false,
            "description": "Epochs:",
            "description_tooltip": null,
            "disabled": false,
            "layout": "IPY_MODEL_e8e5974d30734c0fb2d21a3e81a84af6",
            "step": 1,
            "style": "IPY_MODEL_c236ba42dfa6483faeaff1555ce0a291",
            "value": 100
          }
        },
        "ee0fe5ab0e584cba999c8690fb40b2a2": {
          "model_module": "@jupyter-widgets/controls",
          "model_name": "TextModel",
          "model_module_version": "1.5.0",
          "state": {
            "_dom_classes": [],
            "_model_module": "@jupyter-widgets/controls",
            "_model_module_version": "1.5.0",
            "_model_name": "TextModel",
            "_view_count": null,
            "_view_module": "@jupyter-widgets/controls",
            "_view_module_version": "1.5.0",
            "_view_name": "TextView",
            "continuous_update": true,
            "description": "Data YAML:",
            "description_tooltip": null,
            "disabled": false,
            "layout": "IPY_MODEL_0b28e9d10f664d22aef5b87c188c12bc",
            "placeholder": "Path to data.yaml",
            "style": "IPY_MODEL_0395dd0391ca4499955ddacfbdf6f2ba",
            "value": "/content/kidney-4/data.yaml"
          }
        },
        "89c44793523a45e7973ce346969691c3": {
          "model_module": "@jupyter-widgets/controls",
          "model_name": "ButtonModel",
          "model_module_version": "1.5.0",
          "state": {
            "_dom_classes": [],
            "_model_module": "@jupyter-widgets/controls",
            "_model_module_version": "1.5.0",
            "_model_name": "ButtonModel",
            "_view_count": null,
            "_view_module": "@jupyter-widgets/controls",
            "_view_module_version": "1.5.0",
            "_view_name": "ButtonView",
            "button_style": "",
            "description": "Train Model",
            "disabled": false,
            "icon": "",
            "layout": "IPY_MODEL_6a6043eafdde48a691f0664d313db75d",
            "style": "IPY_MODEL_3073f5d9e23b49cba0eac0654a48b1eb",
            "tooltip": ""
          }
        },
        "0802c9e121a84874a5c054bc859066c9": {
          "model_module": "@jupyter-widgets/output",
          "model_name": "OutputModel",
          "model_module_version": "1.0.0",
          "state": {
            "_dom_classes": [],
            "_model_module": "@jupyter-widgets/output",
            "_model_module_version": "1.0.0",
            "_model_name": "OutputModel",
            "_view_count": null,
            "_view_module": "@jupyter-widgets/output",
            "_view_module_version": "1.0.0",
            "_view_name": "OutputView",
            "layout": "IPY_MODEL_958efbcadc044f3b9d35530430ce9d45",
            "msg_id": "",
            "outputs": []
          }
        },
        "3e50f40d5eb54edda26fabe460d97340": {
          "model_module": "@jupyter-widgets/base",
          "model_name": "LayoutModel",
          "model_module_version": "1.2.0",
          "state": {
            "_model_module": "@jupyter-widgets/base",
            "_model_module_version": "1.2.0",
            "_model_name": "LayoutModel",
            "_view_count": null,
            "_view_module": "@jupyter-widgets/base",
            "_view_module_version": "1.2.0",
            "_view_name": "LayoutView",
            "align_content": null,
            "align_items": null,
            "align_self": null,
            "border": null,
            "bottom": null,
            "display": null,
            "flex": null,
            "flex_flow": null,
            "grid_area": null,
            "grid_auto_columns": null,
            "grid_auto_flow": null,
            "grid_auto_rows": null,
            "grid_column": null,
            "grid_gap": null,
            "grid_row": null,
            "grid_template_areas": null,
            "grid_template_columns": null,
            "grid_template_rows": null,
            "height": null,
            "justify_content": null,
            "justify_items": null,
            "left": null,
            "margin": null,
            "max_height": null,
            "max_width": null,
            "min_height": null,
            "min_width": null,
            "object_fit": null,
            "object_position": null,
            "order": null,
            "overflow": null,
            "overflow_x": null,
            "overflow_y": null,
            "padding": null,
            "right": null,
            "top": null,
            "visibility": null,
            "width": null
          }
        },
        "e8e5974d30734c0fb2d21a3e81a84af6": {
          "model_module": "@jupyter-widgets/base",
          "model_name": "LayoutModel",
          "model_module_version": "1.2.0",
          "state": {
            "_model_module": "@jupyter-widgets/base",
            "_model_module_version": "1.2.0",
            "_model_name": "LayoutModel",
            "_view_count": null,
            "_view_module": "@jupyter-widgets/base",
            "_view_module_version": "1.2.0",
            "_view_name": "LayoutView",
            "align_content": null,
            "align_items": null,
            "align_self": null,
            "border": null,
            "bottom": null,
            "display": null,
            "flex": null,
            "flex_flow": null,
            "grid_area": null,
            "grid_auto_columns": null,
            "grid_auto_flow": null,
            "grid_auto_rows": null,
            "grid_column": null,
            "grid_gap": null,
            "grid_row": null,
            "grid_template_areas": null,
            "grid_template_columns": null,
            "grid_template_rows": null,
            "height": null,
            "justify_content": null,
            "justify_items": null,
            "left": null,
            "margin": null,
            "max_height": null,
            "max_width": null,
            "min_height": null,
            "min_width": null,
            "object_fit": null,
            "object_position": null,
            "order": null,
            "overflow": null,
            "overflow_x": null,
            "overflow_y": null,
            "padding": null,
            "right": null,
            "top": null,
            "visibility": null,
            "width": null
          }
        },
        "c236ba42dfa6483faeaff1555ce0a291": {
          "model_module": "@jupyter-widgets/controls",
          "model_name": "DescriptionStyleModel",
          "model_module_version": "1.5.0",
          "state": {
            "_model_module": "@jupyter-widgets/controls",
            "_model_module_version": "1.5.0",
            "_model_name": "DescriptionStyleModel",
            "_view_count": null,
            "_view_module": "@jupyter-widgets/base",
            "_view_module_version": "1.2.0",
            "_view_name": "StyleView",
            "description_width": ""
          }
        },
        "0b28e9d10f664d22aef5b87c188c12bc": {
          "model_module": "@jupyter-widgets/base",
          "model_name": "LayoutModel",
          "model_module_version": "1.2.0",
          "state": {
            "_model_module": "@jupyter-widgets/base",
            "_model_module_version": "1.2.0",
            "_model_name": "LayoutModel",
            "_view_count": null,
            "_view_module": "@jupyter-widgets/base",
            "_view_module_version": "1.2.0",
            "_view_name": "LayoutView",
            "align_content": null,
            "align_items": null,
            "align_self": null,
            "border": null,
            "bottom": null,
            "display": null,
            "flex": null,
            "flex_flow": null,
            "grid_area": null,
            "grid_auto_columns": null,
            "grid_auto_flow": null,
            "grid_auto_rows": null,
            "grid_column": null,
            "grid_gap": null,
            "grid_row": null,
            "grid_template_areas": null,
            "grid_template_columns": null,
            "grid_template_rows": null,
            "height": null,
            "justify_content": null,
            "justify_items": null,
            "left": null,
            "margin": null,
            "max_height": null,
            "max_width": null,
            "min_height": null,
            "min_width": null,
            "object_fit": null,
            "object_position": null,
            "order": null,
            "overflow": null,
            "overflow_x": null,
            "overflow_y": null,
            "padding": null,
            "right": null,
            "top": null,
            "visibility": null,
            "width": null
          }
        },
        "0395dd0391ca4499955ddacfbdf6f2ba": {
          "model_module": "@jupyter-widgets/controls",
          "model_name": "DescriptionStyleModel",
          "model_module_version": "1.5.0",
          "state": {
            "_model_module": "@jupyter-widgets/controls",
            "_model_module_version": "1.5.0",
            "_model_name": "DescriptionStyleModel",
            "_view_count": null,
            "_view_module": "@jupyter-widgets/base",
            "_view_module_version": "1.2.0",
            "_view_name": "StyleView",
            "description_width": ""
          }
        },
        "6a6043eafdde48a691f0664d313db75d": {
          "model_module": "@jupyter-widgets/base",
          "model_name": "LayoutModel",
          "model_module_version": "1.2.0",
          "state": {
            "_model_module": "@jupyter-widgets/base",
            "_model_module_version": "1.2.0",
            "_model_name": "LayoutModel",
            "_view_count": null,
            "_view_module": "@jupyter-widgets/base",
            "_view_module_version": "1.2.0",
            "_view_name": "LayoutView",
            "align_content": null,
            "align_items": null,
            "align_self": null,
            "border": null,
            "bottom": null,
            "display": null,
            "flex": null,
            "flex_flow": null,
            "grid_area": null,
            "grid_auto_columns": null,
            "grid_auto_flow": null,
            "grid_auto_rows": null,
            "grid_column": null,
            "grid_gap": null,
            "grid_row": null,
            "grid_template_areas": null,
            "grid_template_columns": null,
            "grid_template_rows": null,
            "height": null,
            "justify_content": null,
            "justify_items": null,
            "left": null,
            "margin": null,
            "max_height": null,
            "max_width": null,
            "min_height": null,
            "min_width": null,
            "object_fit": null,
            "object_position": null,
            "order": null,
            "overflow": null,
            "overflow_x": null,
            "overflow_y": null,
            "padding": null,
            "right": null,
            "top": null,
            "visibility": null,
            "width": null
          }
        },
        "3073f5d9e23b49cba0eac0654a48b1eb": {
          "model_module": "@jupyter-widgets/controls",
          "model_name": "ButtonStyleModel",
          "model_module_version": "1.5.0",
          "state": {
            "_model_module": "@jupyter-widgets/controls",
            "_model_module_version": "1.5.0",
            "_model_name": "ButtonStyleModel",
            "_view_count": null,
            "_view_module": "@jupyter-widgets/base",
            "_view_module_version": "1.2.0",
            "_view_name": "StyleView",
            "button_color": null,
            "font_weight": ""
          }
        },
        "958efbcadc044f3b9d35530430ce9d45": {
          "model_module": "@jupyter-widgets/base",
          "model_name": "LayoutModel",
          "model_module_version": "1.2.0",
          "state": {
            "_model_module": "@jupyter-widgets/base",
            "_model_module_version": "1.2.0",
            "_model_name": "LayoutModel",
            "_view_count": null,
            "_view_module": "@jupyter-widgets/base",
            "_view_module_version": "1.2.0",
            "_view_name": "LayoutView",
            "align_content": null,
            "align_items": null,
            "align_self": null,
            "border": null,
            "bottom": null,
            "display": null,
            "flex": null,
            "flex_flow": null,
            "grid_area": null,
            "grid_auto_columns": null,
            "grid_auto_flow": null,
            "grid_auto_rows": null,
            "grid_column": null,
            "grid_gap": null,
            "grid_row": null,
            "grid_template_areas": null,
            "grid_template_columns": null,
            "grid_template_rows": null,
            "height": null,
            "justify_content": null,
            "justify_items": null,
            "left": null,
            "margin": null,
            "max_height": null,
            "max_width": null,
            "min_height": null,
            "min_width": null,
            "object_fit": null,
            "object_position": null,
            "order": null,
            "overflow": null,
            "overflow_x": null,
            "overflow_y": null,
            "padding": null,
            "right": null,
            "top": null,
            "visibility": null,
            "width": null
          }
        }
      }
    }
  },
  "cells": [
    {
      "cell_type": "code",
      "execution_count": null,
      "metadata": {
        "id": "2JJoZ1UkKUv9"
      },
      "outputs": [],
      "source": [
        "!pip install ipywidgets\n",
        "!pip install ultralytics==8.0.196\n",
        "!pip install roboflow\n"
      ]
    },
    {
      "cell_type": "code",
      "source": [
        "from ipywidgets import widgets, FileUpload, VBox, HBox, Button, IntText, Output\n",
        "from IPython.display import display, Image\n",
        "import os\n",
        "from ultralytics import YOLO\n",
        "import matplotlib.pyplot as plt"
      ],
      "metadata": {
        "id": "mqFy15cbKWS4"
      },
      "execution_count": null,
      "outputs": []
    },
    {
      "cell_type": "code",
      "source": [
        "!pip install roboflow\n",
        "\n",
        "from roboflow import Roboflow\n",
        "rf = Roboflow(api_key=\"TrGTFaa2Bzk971xjm8AL\")\n",
        "project = rf.workspace(\"bhuv-7sdq9\").project(\"kidney-ql5tq\")\n",
        "version = project.version(4)\n",
        "dataset = version.download(\"yolov8\")"
      ],
      "metadata": {
        "id": "WVgZnZ8cK1Pm"
      },
      "execution_count": null,
      "outputs": []
    },
    {
      "cell_type": "code",
      "source": [
        "# Define functions\n",
        "def train_model(epochs, data_yaml):\n",
        "    !yolo task=segment mode=train model=yolov8s-seg.pt data={data_yaml} epochs={epochs} imgsz=800 plots=True\n",
        "\n",
        "def on_train_model(b):\n",
        "    with output_train:\n",
        "        output_train.clear_output()\n",
        "        epochs = epoch_input.value\n",
        "        data_yaml = data_yaml_input.value\n",
        "        train_model(epochs, data_yaml)\n",
        "        display(Image(filename='/content/runs/segment/train/confusion_matrix.png', width=600))\n",
        "        display(Image(filename='/content/runs/segment/train/results.png', width=600))\n",
        "        display(Image(filename='/content/runs/segment/train/val_batch0_pred.jpg', width=600))\n",
        "\n",
        "def on_file_upload(change):\n",
        "    os.makedirs('/content/runs/segment/upload_output', exist_ok=True)\n",
        "    custom_model = YOLO('/content/runs/segment/train/weights/best.pt')  # Load your custom-trained model\n",
        "    for name, file_info in uploader.value.items():\n",
        "        with open(name, 'wb') as f:\n",
        "            f.write(file_info['content'])\n",
        "        img_path = os.path.join('/content/', name)\n",
        "        results = custom_model(img_path)\n",
        "        for result in results:\n",
        "            plt.figure(figsize=(10, 10))\n",
        "            plt.imshow(result.plot())\n",
        "            plt.axis('off')\n",
        "            output_img_path = os.path.join('/content/runs/segment/upload_output/', name)\n",
        "            plt.savefig(output_img_path)\n",
        "            plt.close()\n",
        "\n",
        "        # Display the output image\n",
        "        output_img_path = os.path.join('/content/runs/segment/upload_output/', name)\n",
        "        display(Image(filename=output_img_path, width=600))\n",
        "\n",
        "def on_display_results(b):\n",
        "    results_dir = '/content/runs/segment/upload_output'\n",
        "    with output_detect:\n",
        "        output_detect.clear_output()\n",
        "        for image_file in os.listdir(results_dir):\n",
        "            if image_file.endswith(('.jpg', '.jpeg', '.png')):  # Check if it's an image file\n",
        "                image_path = os.path.join(results_dir, image_file)\n",
        "                display(Image(filename=image_path, width=600))"
      ],
      "metadata": {
        "id": "AdDaNefbKWVo"
      },
      "execution_count": null,
      "outputs": []
    },
    {
      "cell_type": "code",
      "source": [
        "# Create GUI elements for training\n",
        "epoch_input = IntText(value=100, description='Epochs:', disabled=False)\n",
        "data_yaml_input = widgets.Text(value='', placeholder='Path to data.yaml', description='Data YAML:', disabled=False)\n",
        "train_button = Button(description='Train Model')\n",
        "train_button.on_click(on_train_model)\n",
        "output_train = Output()\n",
        "\n",
        "train_section = VBox([epoch_input, data_yaml_input, train_button, output_train])\n",
        "display(train_section)\n"
      ],
      "metadata": {
        "colab": {
          "base_uri": "https://localhost:8080/",
          "height": 134,
          "referenced_widgets": [
            "1b64d0e11858464f862380d5a983a183",
            "8b386de6b6f14b539396adcd930c5df4",
            "ee0fe5ab0e584cba999c8690fb40b2a2",
            "89c44793523a45e7973ce346969691c3",
            "0802c9e121a84874a5c054bc859066c9",
            "3e50f40d5eb54edda26fabe460d97340",
            "e8e5974d30734c0fb2d21a3e81a84af6",
            "c236ba42dfa6483faeaff1555ce0a291",
            "0b28e9d10f664d22aef5b87c188c12bc",
            "0395dd0391ca4499955ddacfbdf6f2ba",
            "6a6043eafdde48a691f0664d313db75d",
            "3073f5d9e23b49cba0eac0654a48b1eb",
            "958efbcadc044f3b9d35530430ce9d45"
          ]
        },
        "id": "AonrAKVGKWYT",
        "outputId": "41fdb7bd-c22d-4a0b-cf4c-b17d56c78ef7"
      },
      "execution_count": null,
      "outputs": [
        {
          "output_type": "display_data",
          "data": {
            "text/plain": [
              "VBox(children=(IntText(value=100, description='Epochs:'), Text(value='', description='Data YAML:', placeholder…"
            ],
            "application/vnd.jupyter.widget-view+json": {
              "version_major": 2,
              "version_minor": 0,
              "model_id": "1b64d0e11858464f862380d5a983a183"
            }
          },
          "metadata": {}
        }
      ]
    },
    {
      "cell_type": "code",
      "source": [
        "# Create GUI elements for uploading, detecting, and displaying results\n",
        "uploader = FileUpload(accept='.jpg, .jpeg, .png', multiple=True)\n",
        "uploader.observe(on_file_upload, names='value')\n",
        "\n",
        "display_button = Button(description='Display Results')\n",
        "display_button.on_click(on_display_results)\n",
        "output_detect = Output()\n",
        "\n",
        "detect_section = VBox([uploader, display_button, output_detect])\n",
        "display(detect_section)"
      ],
      "metadata": {
        "id": "bqO7GJhPKWa6"
      },
      "execution_count": null,
      "outputs": []
    },
    {
      "cell_type": "code",
      "source": [],
      "metadata": {
        "id": "nD5rxemVKWd7"
      },
      "execution_count": null,
      "outputs": []
    },
    {
      "cell_type": "code",
      "source": [],
      "metadata": {
        "id": "89tbLVeaKWgN"
      },
      "execution_count": null,
      "outputs": []
    },
    {
      "cell_type": "code",
      "source": [],
      "metadata": {
        "id": "vPGv3nKLKWio"
      },
      "execution_count": null,
      "outputs": []
    },
    {
      "cell_type": "code",
      "source": [],
      "metadata": {
        "id": "4iQWfVJ-KWmI"
      },
      "execution_count": null,
      "outputs": []
    }
  ]
}